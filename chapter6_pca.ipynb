{
 "cells": [
  {
   "metadata": {},
   "cell_type": "markdown",
   "source": "We’ll create a small synthetic dataset with correlated features to make it easy to follow.",
   "id": "7ec760fc3a533206"
  },
  {
   "metadata": {
    "ExecuteTime": {
     "end_time": "2025-03-27T15:09:43.952500Z",
     "start_time": "2025-03-27T15:09:43.181076Z"
    }
   },
   "cell_type": "code",
   "source": [
    "import numpy as np\n",
    "import pandas as pd\n",
    "import matplotlib.pyplot as plt\n",
    "import seaborn as sns\n",
    "from sklearn.decomposition import PCA\n",
    "from sklearn.preprocessing import StandardScaler\n",
    "\n",
    "np.random.seed(42)\n",
    "\n",
    "# Let's create some synthetic data\n",
    "n_samples = 100\n",
    "x1 = np.random.normal(0, 1, n_samples)\n",
    "x2 = 2 * x1 + np.random.normal(0, 0.2, n_samples)  # Strongly correlated with x1\n",
    "x3 = np.random.normal(0, 1, n_samples)             # Uncorrelated with x1 and x2\n",
    "\n",
    "df = pd.DataFrame({\n",
    "    'Feature 1': x1,\n",
    "    'Feature 2': x2,\n",
    "    'Feature 3': x3\n",
    "})\n",
    "\n",
    "df.head()\n",
    "\n"
   ],
   "id": "8f89aa958859dce6",
   "outputs": [
    {
     "data": {
      "text/plain": [
       "   Feature 1  Feature 2  Feature 3\n",
       "0   0.496714   0.710354   0.357787\n",
       "1  -0.138264  -0.360658   0.560785\n",
       "2   0.647689   1.226834   1.083051\n",
       "3   1.523030   2.885604   1.053802\n",
       "4  -0.234153  -0.500564  -1.377669"
      ],
      "text/html": [
       "<div>\n",
       "<style scoped>\n",
       "    .dataframe tbody tr th:only-of-type {\n",
       "        vertical-align: middle;\n",
       "    }\n",
       "\n",
       "    .dataframe tbody tr th {\n",
       "        vertical-align: top;\n",
       "    }\n",
       "\n",
       "    .dataframe thead th {\n",
       "        text-align: right;\n",
       "    }\n",
       "</style>\n",
       "<table border=\"1\" class=\"dataframe\">\n",
       "  <thead>\n",
       "    <tr style=\"text-align: right;\">\n",
       "      <th></th>\n",
       "      <th>Feature 1</th>\n",
       "      <th>Feature 2</th>\n",
       "      <th>Feature 3</th>\n",
       "    </tr>\n",
       "  </thead>\n",
       "  <tbody>\n",
       "    <tr>\n",
       "      <th>0</th>\n",
       "      <td>0.496714</td>\n",
       "      <td>0.710354</td>\n",
       "      <td>0.357787</td>\n",
       "    </tr>\n",
       "    <tr>\n",
       "      <th>1</th>\n",
       "      <td>-0.138264</td>\n",
       "      <td>-0.360658</td>\n",
       "      <td>0.560785</td>\n",
       "    </tr>\n",
       "    <tr>\n",
       "      <th>2</th>\n",
       "      <td>0.647689</td>\n",
       "      <td>1.226834</td>\n",
       "      <td>1.083051</td>\n",
       "    </tr>\n",
       "    <tr>\n",
       "      <th>3</th>\n",
       "      <td>1.523030</td>\n",
       "      <td>2.885604</td>\n",
       "      <td>1.053802</td>\n",
       "    </tr>\n",
       "    <tr>\n",
       "      <th>4</th>\n",
       "      <td>-0.234153</td>\n",
       "      <td>-0.500564</td>\n",
       "      <td>-1.377669</td>\n",
       "    </tr>\n",
       "  </tbody>\n",
       "</table>\n",
       "</div>"
      ]
     },
     "execution_count": 2,
     "metadata": {},
     "output_type": "execute_result"
    }
   ],
   "execution_count": 2
  },
  {
   "metadata": {},
   "cell_type": "markdown",
   "source": [
    "- Feature 1 and Feature 2 are highly correlated.\n",
    "- Feature 3 is independent.\n",
    "\n",
    "Before PCA, it's great to check how our features relate."
   ],
   "id": "cc86a92496816870"
  },
  {
   "metadata": {
    "ExecuteTime": {
     "end_time": "2025-03-27T15:09:44.051220Z",
     "start_time": "2025-03-27T15:09:43.962385Z"
    }
   },
   "cell_type": "code",
   "source": [
    "# Correlation heatmap\n",
    "plt.figure(figsize=(6,4))\n",
    "sns.heatmap(df.corr(), annot=True, cmap='coolwarm', fmt=\".2f\")\n",
    "plt.title(\"Feature Correlation\")\n",
    "plt.show()\n",
    "\n"
   ],
   "id": "a7b091c2c2e7ed39",
   "outputs": [
    {
     "data": {
      "text/plain": [
       "<Figure size 600x400 with 2 Axes>"
      ],
      "image/png": "[encoded data removed]"
     },
     "metadata": {},
     "output_type": "display_data"
    }
   ],
   "execution_count": 3
  },
  {
   "metadata": {},
   "cell_type": "markdown",
   "source": [
    "You’ll clearly see Feature 1 and Feature 2 are highly correlated → ideal for PCA!\n",
    "\n",
    "PCA is affected by scale. Standardize features before applying PCA."
   ],
   "id": "9906d02af34330d9"
  },
  {
   "metadata": {
    "ExecuteTime": {
     "end_time": "2025-03-27T15:09:44.091483Z",
     "start_time": "2025-03-27T15:09:44.085311Z"
    }
   },
   "cell_type": "code",
   "source": [
    "# Standardize the data\n",
    "scaler = StandardScaler()\n",
    "scaled_data = scaler.fit_transform(df)\n",
    "\n",
    "# Just in case:\n",
    "scaled_df = pd.DataFrame(scaled_data, columns=df.columns)\n",
    "scaled_df.head()"
   ],
   "id": "fe27f7bcea5c055b",
   "outputs": [
    {
     "data": {
      "text/plain": [
       "   Feature 1  Feature 2  Feature 3\n",
       "0   0.664619   0.510031   0.271485\n",
       "1  -0.038089  -0.087887   0.459646\n",
       "2   0.831697   0.798368   0.943743\n",
       "3   1.800406   1.724416   0.916631\n",
       "4  -0.144206  -0.165993  -1.337135"
      ],
      "text/html": [
       "<div>\n",
       "<style scoped>\n",
       "    .dataframe tbody tr th:only-of-type {\n",
       "        vertical-align: middle;\n",
       "    }\n",
       "\n",
       "    .dataframe tbody tr th {\n",
       "        vertical-align: top;\n",
       "    }\n",
       "\n",
       "    .dataframe thead th {\n",
       "        text-align: right;\n",
       "    }\n",
       "</style>\n",
       "<table border=\"1\" class=\"dataframe\">\n",
       "  <thead>\n",
       "    <tr style=\"text-align: right;\">\n",
       "      <th></th>\n",
       "      <th>Feature 1</th>\n",
       "      <th>Feature 2</th>\n",
       "      <th>Feature 3</th>\n",
       "    </tr>\n",
       "  </thead>\n",
       "  <tbody>\n",
       "    <tr>\n",
       "      <th>0</th>\n",
       "      <td>0.664619</td>\n",
       "      <td>0.510031</td>\n",
       "      <td>0.271485</td>\n",
       "    </tr>\n",
       "    <tr>\n",
       "      <th>1</th>\n",
       "      <td>-0.038089</td>\n",
       "      <td>-0.087887</td>\n",
       "      <td>0.459646</td>\n",
       "    </tr>\n",
       "    <tr>\n",
       "      <th>2</th>\n",
       "      <td>0.831697</td>\n",
       "      <td>0.798368</td>\n",
       "      <td>0.943743</td>\n",
       "    </tr>\n",
       "    <tr>\n",
       "      <th>3</th>\n",
       "      <td>1.800406</td>\n",
       "      <td>1.724416</td>\n",
       "      <td>0.916631</td>\n",
       "    </tr>\n",
       "    <tr>\n",
       "      <th>4</th>\n",
       "      <td>-0.144206</td>\n",
       "      <td>-0.165993</td>\n",
       "      <td>-1.337135</td>\n",
       "    </tr>\n",
       "  </tbody>\n",
       "</table>\n",
       "</div>"
      ]
     },
     "execution_count": 4,
     "metadata": {},
     "output_type": "execute_result"
    }
   ],
   "execution_count": 4
  },
  {
   "metadata": {},
   "cell_type": "markdown",
   "source": [
    "Let’s apply PCA and look at the explained variance.\n",
    "\n",
    "- First component explains most variance (correlation between x1 and x2).\n",
    "- Second and third explain less.\n"
   ],
   "id": "d9285f33421f5478"
  },
  {
   "metadata": {
    "ExecuteTime": {
     "end_time": "2025-03-27T15:09:44.184921Z",
     "start_time": "2025-03-27T15:09:44.147346Z"
    }
   },
   "cell_type": "code",
   "source": [
    "# Apply PCA\n",
    "pca = PCA()\n",
    "pca.fit(scaled_data)\n",
    "\n",
    "# Explained variance ratio\n",
    "explained_var = pca.explained_variance_ratio_\n",
    "\n",
    "# Plot the variance explained by each principal component\n",
    "plt.figure(figsize=(6,4))\n",
    "plt.bar(range(1, len(explained_var)+1), explained_var, alpha=0.7)\n",
    "plt.xlabel('Principal Component')\n",
    "plt.ylabel('Variance Explained')\n",
    "plt.title('Explained Variance by Components')\n",
    "plt.xticks(range(1, len(explained_var)+1))\n",
    "plt.show()\n",
    "\n",
    "# Print cumulative explained variance\n",
    "print(\"Cumulative explained variance:\")\n",
    "print(np.cumsum(explained_var))\n"
   ],
   "id": "f2a362df9e71529c",
   "outputs": [
    {
     "data": {
      "text/plain": [
       "<Figure size 600x400 with 1 Axes>"
      ],
      "image/png": "[encoded data removed]"
     },
     "metadata": {},
     "output_type": "display_data"
    },
    {
     "name": "stdout",
     "output_type": "stream",
     "text": [
      "Cumulative explained variance:\n",
      "[0.68742233 0.99815973 1.        ]\n"
     ]
    }
   ],
   "execution_count": 5
  },
  {
   "metadata": {},
   "cell_type": "markdown",
   "source": "",
   "id": "58fd2123945b50af"
  },
  {
   "metadata": {},
   "cell_type": "markdown",
   "source": "Let’s project the original data into the PCA space.",
   "id": "3fd2791dcd2eb8c4"
  },
  {
   "metadata": {
    "ExecuteTime": {
     "end_time": "2025-03-27T15:09:44.254274Z",
     "start_time": "2025-03-27T15:09:44.250758Z"
    }
   },
   "cell_type": "code",
   "source": [
    "# Transform the data\n",
    "pca_data = pca.transform(scaled_data)\n",
    "\n",
    "# Turn it into a DataFrame for better readability\n",
    "pca_df = pd.DataFrame(pca_data, columns=[f'PC{i+1}' for i in range(len(df.columns))])\n",
    "pca_df.head()"
   ],
   "id": "7091c6eb7129fcf9",
   "outputs": [
    {
     "data": {
      "text/plain": [
       "        PC1       PC2       PC3\n",
       "0  0.871818  0.059956  0.109054\n",
       "1  0.026220  0.467520  0.034455\n",
       "2  1.348674  0.632727  0.022301\n",
       "3  2.641028  0.278340  0.052801\n",
       "4 -0.540158 -1.242659  0.017506"
      ],
      "text/html": [
       "<div>\n",
       "<style scoped>\n",
       "    .dataframe tbody tr th:only-of-type {\n",
       "        vertical-align: middle;\n",
       "    }\n",
       "\n",
       "    .dataframe tbody tr th {\n",
       "        vertical-align: top;\n",
       "    }\n",
       "\n",
       "    .dataframe thead th {\n",
       "        text-align: right;\n",
       "    }\n",
       "</style>\n",
       "<table border=\"1\" class=\"dataframe\">\n",
       "  <thead>\n",
       "    <tr style=\"text-align: right;\">\n",
       "      <th></th>\n",
       "      <th>PC1</th>\n",
       "      <th>PC2</th>\n",
       "      <th>PC3</th>\n",
       "    </tr>\n",
       "  </thead>\n",
       "  <tbody>\n",
       "    <tr>\n",
       "      <th>0</th>\n",
       "      <td>0.871818</td>\n",
       "      <td>0.059956</td>\n",
       "      <td>0.109054</td>\n",
       "    </tr>\n",
       "    <tr>\n",
       "      <th>1</th>\n",
       "      <td>0.026220</td>\n",
       "      <td>0.467520</td>\n",
       "      <td>0.034455</td>\n",
       "    </tr>\n",
       "    <tr>\n",
       "      <th>2</th>\n",
       "      <td>1.348674</td>\n",
       "      <td>0.632727</td>\n",
       "      <td>0.022301</td>\n",
       "    </tr>\n",
       "    <tr>\n",
       "      <th>3</th>\n",
       "      <td>2.641028</td>\n",
       "      <td>0.278340</td>\n",
       "      <td>0.052801</td>\n",
       "    </tr>\n",
       "    <tr>\n",
       "      <th>4</th>\n",
       "      <td>-0.540158</td>\n",
       "      <td>-1.242659</td>\n",
       "      <td>0.017506</td>\n",
       "    </tr>\n",
       "  </tbody>\n",
       "</table>\n",
       "</div>"
      ]
     },
     "execution_count": 6,
     "metadata": {},
     "output_type": "execute_result"
    }
   ],
   "execution_count": 6
  },
  {
   "metadata": {},
   "cell_type": "markdown",
   "source": "Let’s plot the first two principal components.",
   "id": "6749fabdd9130c4b"
  },
  {
   "metadata": {
    "ExecuteTime": {
     "end_time": "2025-03-27T15:09:44.369476Z",
     "start_time": "2025-03-27T15:09:44.324981Z"
    }
   },
   "cell_type": "code",
   "source": [
    "plt.figure(figsize=(6,5))\n",
    "plt.scatter(pca_df['PC1'], pca_df['PC2'], alpha=0.7, c='teal')\n",
    "plt.xlabel('Principal Component 1')\n",
    "plt.ylabel('Principal Component 2')\n",
    "plt.title('PCA: Projection onto First Two Components')\n",
    "plt.grid(True)\n",
    "plt.axhline(y=0, color='r', linestyle='--')\n",
    "plt.axvline(x=0, color='r', linestyle='--')\n",
    "plt.show()\n"
   ],
   "id": "35b67ba3fda8607f",
   "outputs": [
    {
     "data": {
      "text/plain": [
       "<Figure size 600x500 with 1 Axes>"
      ],
      "image/png": "[encoded data removed]"
     },
     "metadata": {},
     "output_type": "display_data"
    }
   ],
   "execution_count": 7
  },
  {
   "metadata": {},
   "cell_type": "markdown",
   "source": [
    "We’ll check how much each original feature contributes to each principal component.\n",
    "\n",
    "- Large absolute values indicate a strong contribution to that component.\n",
    "- Signs (+/-) tell the direction of the relationship.\n"
   ],
   "id": "f8d651718c9ea853"
  },
  {
   "metadata": {
    "ExecuteTime": {
     "end_time": "2025-03-27T15:09:44.439391Z",
     "start_time": "2025-03-27T15:09:44.436892Z"
    }
   },
   "cell_type": "code",
   "source": [
    "# PCA components (loadings)\n",
    "loadings = pd.DataFrame(pca.components_.T,\n",
    "                        columns=[f'PC{i+1}' for i in range(len(df.columns))],\n",
    "                        index=df.columns)\n",
    "\n",
    "print(\"Feature Loadings (contribution of original features to components):\")\n",
    "print(loadings)\n"
   ],
   "id": "eab664eb02f2266b",
   "outputs": [
    {
     "name": "stdout",
     "output_type": "stream",
     "text": [
      "Feature Loadings (contribution of original features to components):\n",
      "                PC1       PC2       PC3\n",
      "Feature 1  0.685699 -0.172050  0.707259\n",
      "Feature 2  0.685440 -0.174327 -0.706953\n",
      "Feature 3  0.244925  0.969541 -0.001606\n"
     ]
    }
   ],
   "execution_count": 8
  },
  {
   "metadata": {},
   "cell_type": "markdown",
   "source": [
    "Look at explained variance to decide how many components to keep.\n",
    "\n",
    "Look at feature loadings to interpret what each component means.\n",
    "\n",
    "If the first 2 components explain >90%, you could reduce dimensionality while keeping most information."
   ],
   "id": "145a9b302fcb3023"
  },
  {
   "metadata": {},
   "cell_type": "markdown",
   "source": [
    "To better visualize and understand PCA:\n",
    "\n",
    "Step 1: Plot the Original Data with Principal Components\n"
   ],
   "id": "17897b516363edd3"
  },
  {
   "metadata": {
    "ExecuteTime": {
     "end_time": "2025-03-27T15:09:44.527194Z",
     "start_time": "2025-03-27T15:09:44.473337Z"
    }
   },
   "cell_type": "code",
   "source": [
    "import matplotlib.pyplot as plt\n",
    "\n",
    "# We'll focus on just Feature 1 and Feature 2\n",
    "features = ['Feature 1', 'Feature 2']\n",
    "X = scaled_df[features].values\n",
    "\n",
    "# Fit PCA on just these two features to make a clean 2D plot\n",
    "pca_2d = PCA(n_components=2)\n",
    "pca_2d.fit(X)\n",
    "\n",
    "# Get principal components and their directions\n",
    "pcs = pca_2d.components_\n",
    "mean = X.mean(axis=0)\n",
    "\n",
    "# Plot the data\n",
    "plt.figure(figsize=(7, 6))\n",
    "plt.scatter(X[:, 0], X[:, 1], alpha=0.5, color='skyblue', label='Data Points')\n",
    "plt.xlabel('Feature 1 (standardized)')\n",
    "plt.ylabel('Feature 2 (standardized)')\n",
    "plt.title('Feature 1 vs Feature 2 with Principal Components')\n",
    "\n",
    "# Draw PC1 and PC2 as arrows\n",
    "for i, (comp, var) in enumerate(zip(pcs, pca_2d.explained_variance_ratio_)):\n",
    "    plt.arrow(mean[0], mean[1], comp[0]*3, comp[1]*3, \n",
    "              head_width=0.1, head_length=0.1, color=['r', 'g'][i],\n",
    "              label=f'PC{i+1} ({var*100:.1f}% var)')\n",
    "\n",
    "plt.grid(True)\n",
    "plt.axhline(0, color='gray', lw=0.5)\n",
    "plt.axvline(0, color='gray', lw=0.5)\n",
    "plt.legend()\n",
    "plt.axis('equal')\n",
    "plt.show()\n"
   ],
   "id": "510f981d799067c4",
   "outputs": [
    {
     "data": {
      "text/plain": [
       "<Figure size 700x600 with 1 Axes>"
      ],
      "image/png": "[encoded data removed]"
     },
     "metadata": {},
     "output_type": "display_data"
    }
   ],
   "execution_count": 9
  },
  {
   "metadata": {},
   "cell_type": "markdown",
   "source": [
    "Step 2: Look at Feature Loadings\n",
    "Let’s interpret how each feature contributes to the principal components.\n",
    "\n",
    "- PC1: High positive weights for Feature 1 and 2 → this component captures their combined effect.\n",
    "- PC2: High negative loading for Feature 3 → this axis is mostly aligned with that feature.\n",
    "- PC3: Mostly noise; small, mixed weights.\n"
   ],
   "id": "82e703f9f7ddf201"
  },
  {
   "metadata": {
    "ExecuteTime": {
     "end_time": "2025-03-27T15:09:44.538179Z",
     "start_time": "2025-03-27T15:09:44.535348Z"
    }
   },
   "cell_type": "code",
   "source": [
    "# Loadings matrix (feature contributions to each PC)\n",
    "loadings = pd.DataFrame(pca.components_.T,\n",
    "                        columns=[f'PC{i+1}' for i in range(len(df.columns))],\n",
    "                        index=df.columns)\n",
    "\n",
    "print(\"Feature Loadings:\")\n",
    "print(loadings.round(3))\n"
   ],
   "id": "1108e22ce10a466b",
   "outputs": [
    {
     "name": "stdout",
     "output_type": "stream",
     "text": [
      "Feature Loadings:\n",
      "             PC1    PC2    PC3\n",
      "Feature 1  0.686 -0.172  0.707\n",
      "Feature 2  0.685 -0.174 -0.707\n",
      "Feature 3  0.245  0.970 -0.002\n"
     ]
    }
   ],
   "execution_count": 10
  },
  {
   "metadata": {
    "ExecuteTime": {
     "end_time": "2025-03-27T15:20:07.786438Z",
     "start_time": "2025-03-27T15:20:07.780180Z"
    }
   },
   "cell_type": "code",
   "source": [
    "from sklearn.decomposition import PCA\n",
    "from sklearn.preprocessing import StandardScaler\n",
    "\n",
    "# Assume X is your (n_samples x 200 features) dataset\n",
    "X_scaled = StandardScaler().fit_transform(X)\n",
    "\n",
    "pca = PCA()\n",
    "pca.fit(X_scaled)\n",
    "\n",
    "# PC1 loadings\n",
    "pc1_loadings = pca.components_[0]  # First principal component\n",
    "\n",
    "# Put into a DataFrame for better readability\n",
    "feature_names = X.columns if isinstance(X, pd.DataFrame) else [f'Feature {i+1}' for i in range(X.shape[1])]\n",
    "loadings_df = pd.DataFrame({\n",
    "    'Feature': feature_names,\n",
    "    'PC1 Loading': pc1_loadings\n",
    "})\n",
    "\n",
    "# Sort by absolute loading value to see most influential features\n",
    "top_features = loadings_df.reindex(loadings_df['PC1 Loading'].abs().sort_values(ascending=False).index)\n",
    "top_features.head(10)  # Top 10 features contributing to PC1\n"
   ],
   "id": "a7f8aa90306ef667",
   "outputs": [
    {
     "data": {
      "text/plain": [
       "     Feature  PC1 Loading\n",
       "1  Feature 2     0.707107\n",
       "0  Feature 1     0.707107"
      ],
      "text/html": [
       "<div>\n",
       "<style scoped>\n",
       "    .dataframe tbody tr th:only-of-type {\n",
       "        vertical-align: middle;\n",
       "    }\n",
       "\n",
       "    .dataframe tbody tr th {\n",
       "        vertical-align: top;\n",
       "    }\n",
       "\n",
       "    .dataframe thead th {\n",
       "        text-align: right;\n",
       "    }\n",
       "</style>\n",
       "<table border=\"1\" class=\"dataframe\">\n",
       "  <thead>\n",
       "    <tr style=\"text-align: right;\">\n",
       "      <th></th>\n",
       "      <th>Feature</th>\n",
       "      <th>PC1 Loading</th>\n",
       "    </tr>\n",
       "  </thead>\n",
       "  <tbody>\n",
       "    <tr>\n",
       "      <th>1</th>\n",
       "      <td>Feature 2</td>\n",
       "      <td>0.707107</td>\n",
       "    </tr>\n",
       "    <tr>\n",
       "      <th>0</th>\n",
       "      <td>Feature 1</td>\n",
       "      <td>0.707107</td>\n",
       "    </tr>\n",
       "  </tbody>\n",
       "</table>\n",
       "</div>"
      ]
     },
     "execution_count": 11,
     "metadata": {},
     "output_type": "execute_result"
    }
   ],
   "execution_count": 11
  },
  {
   "metadata": {
    "ExecuteTime": {
     "end_time": "2025-03-27T15:22:18.589057Z",
     "start_time": "2025-03-27T15:22:18.584141Z"
    }
   },
   "cell_type": "code",
   "source": [
    "# All PCs: rows = PCs, columns = features\n",
    "loadings_matrix = pd.DataFrame(pca.components_,\n",
    "                               columns=feature_names,\n",
    "                               index=[f'PC{i+1}' for i in range(pca.n_components_)])\n",
    "loadings_matrix.T.head()  # Transpose for easier viewing (features as rows)\n"
   ],
   "id": "71c505df1ad87e88",
   "outputs": [
    {
     "data": {
      "text/plain": [
       "                PC1       PC2\n",
       "Feature 1  0.707107  0.707107\n",
       "Feature 2  0.707107 -0.707107"
      ],
      "text/html": [
       "<div>\n",
       "<style scoped>\n",
       "    .dataframe tbody tr th:only-of-type {\n",
       "        vertical-align: middle;\n",
       "    }\n",
       "\n",
       "    .dataframe tbody tr th {\n",
       "        vertical-align: top;\n",
       "    }\n",
       "\n",
       "    .dataframe thead th {\n",
       "        text-align: right;\n",
       "    }\n",
       "</style>\n",
       "<table border=\"1\" class=\"dataframe\">\n",
       "  <thead>\n",
       "    <tr style=\"text-align: right;\">\n",
       "      <th></th>\n",
       "      <th>PC1</th>\n",
       "      <th>PC2</th>\n",
       "    </tr>\n",
       "  </thead>\n",
       "  <tbody>\n",
       "    <tr>\n",
       "      <th>Feature 1</th>\n",
       "      <td>0.707107</td>\n",
       "      <td>0.707107</td>\n",
       "    </tr>\n",
       "    <tr>\n",
       "      <th>Feature 2</th>\n",
       "      <td>0.707107</td>\n",
       "      <td>-0.707107</td>\n",
       "    </tr>\n",
       "  </tbody>\n",
       "</table>\n",
       "</div>"
      ]
     },
     "execution_count": 12,
     "metadata": {},
     "output_type": "execute_result"
    }
   ],
   "execution_count": 12
  }
 ],
 "metadata": {
  "kernelspec": {
   "display_name": "Python 3",
   "language": "python",
   "name": "python3"
  },
  "language_info": {
   "codemirror_mode": {
    "name": "ipython",
    "version": 2
   },
   "file_extension": ".py",
   "mimetype": "text/x-python",
   "name": "python",
   "nbconvert_exporter": "python",
   "pygments_lexer": "ipython2",
   "version": "2.7.6"
  }
 },
 "nbformat": 4,
 "nbformat_minor": 5
}
